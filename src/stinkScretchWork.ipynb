{
 "cells": [
  {
   "cell_type": "code",
   "execution_count": 67,
   "metadata": {},
   "outputs": [],
   "source": [
    "### import \n",
    "import numpy as np\n",
    "from mpl_toolkits import mplot3d\n",
    "import matplotlib.pyplot as plt\n",
    "from IPython.core.debugger import set_trace"
   ]
  },
  {
   "cell_type": "code",
   "execution_count": 69,
   "metadata": {},
   "outputs": [
    {
     "data": {
      "image/png": "[encoded data removed]",
      "text/plain": [
       "<Figure size 432x288 with 1 Axes>"
      ]
     },
     "metadata": {
      "needs_background": "light"
     },
     "output_type": "display_data"
    }
   ],
   "source": [
    "## create a stink somewhere as an exponential peak on a 2d grid\n",
    "\n",
    "## stink parameters\n",
    "strength = 10\n",
    "radius = 5\n",
    "position = np.array([5, 17])\n",
    "## meshgrid\n",
    "(nx ,ny) = (1000,1000)\n",
    "x = np.linspace(-100, 100, nx)\n",
    "y = np.linspace(-100, 100, ny)\n",
    "X, Y = np.meshgrid(x,y)\n",
    "\n",
    "testStink = strength*np.exp( (-1/radius) * (np.sqrt((X-position[0])**2 + (Y-position[1])**2)))\n",
    "\n",
    "fig = plt.figure()\n",
    "ax = plt.axes()#projection='3d')\n",
    "ax.contour(X, Y, testStink, 50, cmap='binary')\n",
    "ax.set_xlabel('x')\n",
    "ax.set_ylabel('y')\n",
    "#ax.set_zlabel('z')\n",
    "ax.set_title('3D contour')\n",
    "plt.show()\n"
   ]
  },
  {
   "cell_type": "code",
   "execution_count": 90,
   "metadata": {},
   "outputs": [],
   "source": [
    "## have a lamp exist somewhere else\n",
    "lampPosition = np.array([0,0])\n",
    "lampSize = np.array([9,3])\n",
    "\n",
    "points = [[2, 4], [2, 8], [4, 6], [6, 8]]\n",
    "line = plt.Polygon(points, closed=None, fill=None, edgecolor='r')\n",
    "### create the shape of a standard lamp\n",
    "###      *---*\n",
    "###     /     \\\n",
    "###    /       \\\n",
    "###       ||\n",
    "###       ||\n",
    "###       ||\n",
    "###     ====="
   ]
  },
  {
   "cell_type": "code",
   "execution_count": 71,
   "metadata": {},
   "outputs": [],
   "source": [
    "### Create lamp dimensions\n",
    "def lampPolygon(length, width):\n",
    "    ###                  _\n",
    "    ###       *---*      |\n",
    "    ###      /c/2  \\     c\n",
    "    ###     /       \\    |\n",
    "    ###    /    --a--\\   -\n",
    "    ###       ||\n",
    "    ###       ||  e\n",
    "    ###       ||\n",
    "    ###     ===== b/2\n",
    "    shadeHeight = .4 # how much of the shaft is coverd by the shade\n",
    "    sliver = length/50\n",
    "    a = width/2\n",
    "    c = shadeHeight*length\n",
    "    e = (1-shadeHeight)*length\n",
    "    verticies = np.array([[a,0], [c/2, c], [-c/2, c], [-a,0], [-sliver, 0], [-sliver, -e], [-c/4, -e], [-c/4, -e-sliver], [c/4, -e-sliver], [c/4, -e], [sliver, -e], [sliver,0]])\n",
    "    return verticies \n",
    "\n",
    "def rotateLamp(position, velocity, verticies):\n",
    "    ### get unit vector for velocity to obtain the direction\n",
    "    ### create rotation matrix matrix \n",
    "    ### apply transformation to verticies\n",
    "    ### return transformed verticies\n",
    "    \n",
    "    xAxis = np.array([1 0])\n",
    "    dotProd = np.dot(velocity, xAxis)\n",
    "    magV = np.linalg.norm(velocity)\n",
    "    \n",
    "    angle = np.arccos(dotProd/magV) # dotproduct with x-axis picks x component\n",
    "    # Check to see if we do clockwise or counter cloclwise rotation \n",
    "    \n",
    "    ## Cross velocity and x axis. So we need to see if positive or negative...\n",
    "    third_component = oldVel[0]*self.velocity[1] - oldVel[1]*self.velocity[0]\n",
    "            \n",
    "    angle =  np.arccos(np.dot(oldVel, self.velocity)/(magV*magOldVel))\n",
    "            \n",
    "    if third_component < 0:\n",
    "                angle *= -1\n",
    "\n",
    "    print(angle)\n",
    "    print(np.cos(angle))\n",
    "    \n",
    "    rotationMatrix = np.array([[np.cos(angle), -np.sin(angle)], [np.sin(angle), np.cos(angle)]])\n",
    "    print('rotation matrix created')\n",
    "    rotatedVerts = np.matmul(rotationMatrix, np.transpose(verticies))\n",
    "    print('lamp rotated')\n",
    "    newVerts = np.add(rotatedVerts, position.reshape(2,1))\n",
    "    print('lamp shifted')\n",
    "    return np.transpose(newVerts)\n",
    "    \n"
   ]
  },
  {
   "cell_type": "code",
   "execution_count": 94,
   "metadata": {},
   "outputs": [],
   "source": [
    "# Have class standard verticies\n",
    "# also moment specific verticies\n",
    "# for each rotation, find out the velocity vector's angle with the x-axis\n",
    "# update to the current verticies\n",
    " "
   ]
  },
  {
   "cell_type": "code",
   "execution_count": 72,
   "metadata": {},
   "outputs": [],
   "source": [
    "verticies = lampPolygon(length, width)\n",
    "\n",
    "\n"
   ]
  },
  {
   "cell_type": "code",
   "execution_count": 83,
   "metadata": {},
   "outputs": [
    {
     "name": "stdout",
     "output_type": "stream",
     "text": [
      "0.6435011087932843\n",
      "0.8\n",
      "rotation matrix created\n",
      "lamp rotated\n",
      "lamp shifted\n",
      "[[ 3.     3.5  ]\n",
      " [ 0.28   5.96 ]\n",
      " [-2.6    3.8  ]\n",
      " [-1.     0.5  ]\n",
      " [ 0.856  1.892]\n",
      " [ 4.096 -2.428]\n",
      " [ 3.52  -2.86 ]\n",
      " [ 3.628 -3.004]\n",
      " [ 5.068 -1.924]\n",
      " [ 4.96  -1.78 ]\n",
      " [ 4.384 -2.212]\n",
      " [ 1.144  2.108]]\n"
     ]
    }
   ],
   "source": [
    "\n",
    "newVerticies = rotateLamp(position, velocity, verticies)\n",
    "print((newVerticies))"
   ]
  },
  {
   "cell_type": "code",
   "execution_count": 84,
   "metadata": {},
   "outputs": [
    {
     "name": "stdout",
     "output_type": "stream",
     "text": [
      "[[ 2.5   0.  ]\n",
      " [ 1.8   3.6 ]\n",
      " [-1.8   3.6 ]\n",
      " [-2.5   0.  ]\n",
      " [-0.18  0.  ]\n",
      " [-0.18 -5.4 ]\n",
      " [-0.9  -5.4 ]\n",
      " [-0.9  -5.58]\n",
      " [ 0.9  -5.58]\n",
      " [ 0.9  -5.4 ]\n",
      " [ 0.18 -5.4 ]\n",
      " [ 0.18  0.  ]]\n"
     ]
    }
   ],
   "source": [
    "print(verticies)"
   ]
  },
  {
   "cell_type": "code",
   "execution_count": 106,
   "metadata": {},
   "outputs": [
    {
     "name": "stdout",
     "output_type": "stream",
     "text": [
      "0.46364760900080615\n",
      "0.8944271909999159\n",
      "rotation matrix created\n",
      "lamp rotated\n",
      "lamp shifted\n"
     ]
    },
    {
     "data": {
      "text/plain": [
       "[<matplotlib.patches.Polygon at 0x11cac9d50>]"
      ]
     },
     "execution_count": 106,
     "metadata": {},
     "output_type": "execute_result"
    },
    {
     "data": {
      "image/png": "[encoded data removed]",
      "text/plain": [
       "<Figure size 432x288 with 1 Axes>"
      ]
     },
     "metadata": {
      "needs_background": "light"
     },
     "output_type": "display_data"
    }
   ],
   "source": [
    "length = 9\n",
    "width = 6\n",
    "verticies = lampPolygon(length, width)\n",
    "position = np.array([3,0])\n",
    "velocity = np.array([2,6])\n",
    "newVerticies = rotateLamp(position, velocity, verticies)\n",
    "\n",
    "plt.xlim(-10, 10)\n",
    "plt.ylim(-10,10 )\n",
    "\n",
    "plt.fill(verticies[:,0], verticies[:,1])\n",
    "\n",
    "plt.fill(newVerticies[:,0], newVerticies[:,1])\n"
   ]
  },
  {
   "cell_type": "code",
   "execution_count": 80,
   "metadata": {},
   "outputs": [
    {
     "data": {
      "text/plain": [
       "array([ 5, 17])"
      ]
     },
     "execution_count": 80,
     "metadata": {},
     "output_type": "execute_result"
    }
   ],
   "source": [
    "position"
   ]
  },
  {
   "cell_type": "code",
   "execution_count": 110,
   "metadata": {},
   "outputs": [
    {
     "data": {
      "text/plain": [
       "array([[  0.  ,  -5.  ],\n",
       "       [ -1.2 ,  -1.4 ],\n",
       "       [ -4.8 ,  -1.4 ],\n",
       "       [ -6.  ,  -5.  ],\n",
       "       [ -3.18,  -5.  ],\n",
       "       [ -3.18, -10.4 ],\n",
       "       [ -3.9 , -10.4 ],\n",
       "       [ -3.9 , -10.58],\n",
       "       [ -2.1 , -10.58],\n",
       "       [ -2.1 , -10.4 ],\n",
       "       [ -2.82, -10.4 ],\n",
       "       [ -2.82,  -5.  ]])"
      ]
     },
     "execution_count": 110,
     "metadata": {},
     "output_type": "execute_result"
    }
   ],
   "source": [
    "verticies - position\n"
   ]
  },
  {
   "cell_type": "code",
   "execution_count": 114,
   "metadata": {},
   "outputs": [
    {
     "data": {
      "text/plain": [
       "array([3, 5])"
      ]
     },
     "execution_count": 114,
     "metadata": {},
     "output_type": "execute_result"
    }
   ],
   "source": [
    "position\n"
   ]
  },
  {
   "cell_type": "code",
   "execution_count": 113,
   "metadata": {},
   "outputs": [
    {
     "data": {
      "text/plain": [
       "array([[ 3.  ,  0.  ],\n",
       "       [ 1.8 ,  3.6 ],\n",
       "       [-1.8 ,  3.6 ],\n",
       "       [-3.  ,  0.  ],\n",
       "       [-0.18,  0.  ],\n",
       "       [-0.18, -5.4 ],\n",
       "       [-0.9 , -5.4 ],\n",
       "       [-0.9 , -5.58],\n",
       "       [ 0.9 , -5.58],\n",
       "       [ 0.9 , -5.4 ],\n",
       "       [ 0.18, -5.4 ],\n",
       "       [ 0.18,  0.  ]])"
      ]
     },
     "execution_count": 113,
     "metadata": {},
     "output_type": "execute_result"
    }
   ],
   "source": [
    "verticies"
   ]
  },
  {
   "cell_type": "code",
   "execution_count": null,
   "metadata": {},
   "outputs": [],
   "source": []
  }
 ],
 "metadata": {
  "kernelspec": {
   "display_name": "Python 3",
   "language": "python",
   "name": "python3"
  },
  "language_info": {
   "codemirror_mode": {
    "name": "ipython",
    "version": 3
   },
   "file_extension": ".py",
   "mimetype": "text/x-python",
   "name": "python",
   "nbconvert_exporter": "python",
   "pygments_lexer": "ipython3",
   "version": "3.7.7"
  }
 },
 "nbformat": 4,
 "nbformat_minor": 4
}
