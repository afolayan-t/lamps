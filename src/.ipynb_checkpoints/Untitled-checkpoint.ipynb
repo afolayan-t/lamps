{
 "cells": [
  {
   "cell_type": "code",
   "execution_count": 1,
   "metadata": {},
   "outputs": [
    {
     "name": "stdout",
     "output_type": "stream",
     "text": [
      "wello horld\n"
     ]
    }
   ],
   "source": [
    "print('wello horld')\n"
   ]
  },
  {
   "cell_type": "code",
   "execution_count": 1,
   "metadata": {},
   "outputs": [
    {
     "name": "stdout",
     "output_type": "stream",
     "text": [
      "pygame 2.0.0.dev6 (SDL 2.0.10, python 3.8.1)\n",
      "Hello from the pygame community. https://www.pygame.org/contribute.html\n"
     ]
    }
   ],
   "source": [
    "import numpy as np\n",
    "import matplotlib.pyplot as plt\n",
    "import pygame\n",
    "import time"
   ]
  },
  {
   "cell_type": "code",
   "execution_count": 5,
   "metadata": {},
   "outputs": [
    {
     "name": "stdout",
     "output_type": "stream",
     "text": [
      "<__main__.lamp object at 0x114e86040>\n"
     ]
    },
    {
     "ename": "KeyboardInterrupt",
     "evalue": "",
     "output_type": "error",
     "traceback": [
      "\u001b[0;31m---------------------------------------------------------------------------\u001b[0m",
      "\u001b[0;31mKeyboardInterrupt\u001b[0m                         Traceback (most recent call last)",
      "\u001b[0;32m<ipython-input-5-124d5dc8ffb0>\u001b[0m in \u001b[0;36m<module>\u001b[0;34m\u001b[0m\n\u001b[1;32m     74\u001b[0m     \u001b[0mpygame\u001b[0m\u001b[0;34m.\u001b[0m\u001b[0mdisplay\u001b[0m\u001b[0;34m.\u001b[0m\u001b[0mupdate\u001b[0m\u001b[0;34m(\u001b[0m\u001b[0;34m)\u001b[0m\u001b[0;34m\u001b[0m\u001b[0;34m\u001b[0m\u001b[0m\n\u001b[1;32m     75\u001b[0m     \u001b[0;31m# pause the window so the graphics update\u001b[0m\u001b[0;34m\u001b[0m\u001b[0;34m\u001b[0m\u001b[0;34m\u001b[0m\u001b[0m\n\u001b[0;32m---> 76\u001b[0;31m     \u001b[0mtime\u001b[0m\u001b[0;34m.\u001b[0m\u001b[0msleep\u001b[0m\u001b[0;34m(\u001b[0m\u001b[0;36m1\u001b[0m\u001b[0;34m)\u001b[0m\u001b[0;34m\u001b[0m\u001b[0;34m\u001b[0m\u001b[0m\n\u001b[0m\u001b[1;32m     77\u001b[0m \u001b[0;34m\u001b[0m\u001b[0m\n\u001b[1;32m     78\u001b[0m \u001b[0mpygame\u001b[0m\u001b[0;34m.\u001b[0m\u001b[0mdisplay\u001b[0m\u001b[0;34m.\u001b[0m\u001b[0mquit\u001b[0m\u001b[0;34m(\u001b[0m\u001b[0;34m)\u001b[0m \u001b[0;31m# quit the GUI\u001b[0m\u001b[0;34m\u001b[0m\u001b[0;34m\u001b[0m\u001b[0m\n",
      "\u001b[0;31mKeyboardInterrupt\u001b[0m: "
     ]
    }
   ],
   "source": [
    "# PURPOSE\n",
    "#    Create the environment of which our lamps will live\n",
    "# (1)  import stuff we need\n",
    "# (2)  \n",
    "# (3)\n",
    "\n",
    "# Establish size of environment window\n",
    "boxWidth = 800\n",
    "boxHeight = 600\n",
    "\n",
    "# create lamp class which will be our creatures\n",
    "class lamp:\n",
    "    def __init__(self):\n",
    "        self.x = np.random.randint(0, boxWidth)\n",
    "        self.y = np.random.randint(0, boxHeight)\n",
    "        self.xDot = np.random.randint(-5, 5)\n",
    "        self.yDot = np.random.randint(-5, 5)\n",
    "    def move(self):\n",
    "        self.x = self.x + self.xDot\n",
    "        self.y = self.y + self.yDot\n",
    "        self.xDot = np.random.randint(-10, 10)\n",
    "        self.yDot = np.random.randint(-10, 10)\n",
    "\n",
    "## initialize game\n",
    "pygame.init()\n",
    "# intialize screen object \n",
    "screen = pygame.display.set_mode((boxWidth, boxHeight))\n",
    "\n",
    "# here are some RGB colors\n",
    "white = (255, 255, 255) \n",
    "green = (0, 255, 0) \n",
    "blue = (0, 0, 128) \n",
    "\n",
    "# sets the title for the window\n",
    "pygame.display.set_caption('My title') \n",
    "\n",
    "# create a font object. \n",
    "# 1st parameter is the font file \n",
    "# which is present in pygame. \n",
    "# 2nd parameter is size of the font \n",
    "font = pygame.font.SysFont('comicsansms', 32) \n",
    "  \n",
    "# create a text suface object, \n",
    "# on which text is drawn on it. \n",
    "text = font.render('fuck', True, green, white) \n",
    "\n",
    "# create a rectangular object for the \n",
    "# text surface object \n",
    "# textRect = text.get_rect()  \n",
    "  \n",
    "# Create a lamp\n",
    "myLamp = lamp()\n",
    "# let the good people know about the lamp\n",
    "print(myLamp)\n",
    "# give the text the coordiantes of the lamp. \n",
    "textRect.center = (myLamp.x, myLamp.y) \n",
    "\n",
    "# flip displays the window\n",
    "pygame.display.flip()\n",
    "running = True\n",
    "while running:\n",
    "    # \n",
    "    myLamp.move()\n",
    "    textRect.center = (myLamp.x, myLamp.y) \n",
    "    # fill the screens colors as black\n",
    "    screen.fill([0,0,0])\n",
    "    # update teh coordinates of the text\n",
    "    screen.blit(text, textRect) \n",
    "    # if we click 'X' on the screen, stop rendering the screen\n",
    "    for event in pygame.event.get():\n",
    "        if event.type == pygame.QUIT:\n",
    "            running = False\n",
    "    \n",
    "    pygame.display.update()\n",
    "    # pause the window so the graphics update\n",
    "    time.sleep(1)\n",
    "\n",
    "pygame.display.quit() # quit the GUI\n",
    "\n",
    "\n"
   ]
  },
  {
   "cell_type": "code",
   "execution_count": null,
   "metadata": {},
   "outputs": [],
   "source": []
  },
  {
   "cell_type": "code",
   "execution_count": null,
   "metadata": {},
   "outputs": [],
   "source": []
  }
 ],
 "metadata": {
  "kernelspec": {
   "display_name": "Python 3",
   "language": "python",
   "name": "python3"
  },
  "language_info": {
   "codemirror_mode": {
    "name": "ipython",
    "version": 3
   },
   "file_extension": ".py",
   "mimetype": "text/x-python",
   "name": "python",
   "nbconvert_exporter": "python",
   "pygments_lexer": "ipython3",
   "version": "3.8.1"
  }
 },
 "nbformat": 4,
 "nbformat_minor": 4
}
